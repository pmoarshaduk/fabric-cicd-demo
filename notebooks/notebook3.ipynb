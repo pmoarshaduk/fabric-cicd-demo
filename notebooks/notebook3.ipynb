{
 "cells": [
  {
   "cell_type": "code",
   "execution_count": null,
   "metadata": {},
   "outputs": [],
   "source": [
    "{\n",
    " \"cells\": [\n",
    "  {\n",
    "   \"cell_type\": \"code\",\n",
    "   \"execution_count\": null,\n",
    "   \"metadata\": {},\n",
    "   \"outputs\": [],\n",
    "   \"source\": [\n",
    "    \"# Notebook 3 - Deployed via CI/CD\\n\",\n",
    "    \"# Created: 22-Aug-2025\\n\",\n",
    "    \"\\n\",\n",
    "    \"print(\\\"22-Aug-2025\\\")\\n\",\n",
    "    \"print(\\\"This notebook was automatically deployed via CI/CD pipeline\\\")\\n\",\n",
    "    \"print(\\\"Workspace: DEV\\\")\\n\",\n",
    "    \"\\n\",\n",
    "    \"# Sample data processing\\n\",\n",
    "    \"data = [1, 2, 3, 4, 5]\\n\",\n",
    "    \"print(f\\\"Data: {data}\\\")\\n\",\n",
    "    \"print(f\\\"Sum: {sum(data)}\\\")\\n\",\n",
    "    \"\\n\",\n",
    "    \"# Fabric environment info\\n\",\n",
    "    \"print(\\\"\\\\nFabric Deployment Successful! 🎉\\\")\"\n",
    "   ]\n",
    "  }\n",
    " ],\n",
    " \"metadata\": {\n",
    "  \"kernelspec\": {\n",
    "   \"display_name\": \"Python 3\",\n",
    "   \"language\": \"python\",\n",
    "   \"name\": \"python3\"\n",
    "  },\n",
    "  \"language_info\": {\n",
    "   \"name\": \"python\",\n",
    "   \"version\": \"3.10.0\"\n",
    "  }\n",
    " },\n",
    " \"nbformat\": 4,\n",
    " \"nbformat_minor\": 4\n",
    "}"
   ]
  }
 ],
 "metadata": {
  "language_info": {
   "name": "python"
  }
 },
 "nbformat": 4,
 "nbformat_minor": 2
}
