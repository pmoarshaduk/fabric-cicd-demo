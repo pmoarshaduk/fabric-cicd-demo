{
 "cells": [
  {
   "cell_type": "code",
   "source": ["print(\"Hello Fabric CICD\")"],
   "metadata": {},
   "execution_count": null,
   "outputs": []
  }
 ],
 "metadata": {},
 "nbformat": 4,
 "nbformat_minor": 2
}
